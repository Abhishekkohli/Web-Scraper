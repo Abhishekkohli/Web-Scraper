{
  "nbformat": 4,
  "nbformat_minor": 0,
  "metadata": {
    "colab": {
      "name": "Copy of web-scrap-intershalla.ipynb",
      "provenance": [],
      "collapsed_sections": [],
      "include_colab_link": true
    },
    "kernelspec": {
      "name": "python3",
      "display_name": "Python 3"
    }
  },
  "cells": [
    {
      "cell_type": "markdown",
      "metadata": {
        "id": "view-in-github",
        "colab_type": "text"
      },
      "source": [
        "<a href=\"https://colab.research.google.com/github/Abhishekkohli/Abhishek27/blob/master/Copy_of_web_scrap_intershalla.ipynb\" target=\"_parent\"><img src=\"https://colab.research.google.com/assets/colab-badge.svg\" alt=\"Open In Colab\"/></a>"
      ]
    },
    {
      "cell_type": "code",
      "metadata": {
        "id": "0H2PddvzpeB3",
        "colab_type": "code",
        "colab": {}
      },
      "source": [
        "from requests import get\n",
        "from bs4 import BeautifulSoup as bs"
      ],
      "execution_count": 0,
      "outputs": []
    },
    {
      "cell_type": "code",
      "metadata": {
        "id": "MxSmKmQmwqZ6",
        "colab_type": "code",
        "colab": {}
      },
      "source": [
        "from newspaper import Article"
      ],
      "execution_count": 0,
      "outputs": []
    },
    {
      "cell_type": "code",
      "metadata": {
        "id": "9hkySqEp3KoO",
        "colab_type": "code",
        "colab": {}
      },
      "source": [
        "import pandas as pd"
      ],
      "execution_count": 0,
      "outputs": []
    },
    {
      "cell_type": "code",
      "metadata": {
        "id": "hIGjsDVSycnB",
        "colab_type": "code",
        "colab": {}
      },
      "source": [
        "pip install newspaper3k"
      ],
      "execution_count": 0,
      "outputs": []
    },
    {
      "cell_type": "code",
      "metadata": {
        "id": "9gOLSre8qGC8",
        "colab_type": "code",
        "colab": {}
      },
      "source": [
        "url = 'https://news.google.com/topics/CAAqJggKIiBDQkFTRWdvSUwyMHZNRGx6TVdZU0FtVnVHZ0pKVGlnQVAB?hl=en-IN&gl=IN&ceid=IN%3Aen'"
      ],
      "execution_count": 0,
      "outputs": []
    },
    {
      "cell_type": "code",
      "metadata": {
        "id": "-oUUKD7kqR-P",
        "colab_type": "code",
        "colab": {}
      },
      "source": [
        "response = get(url)"
      ],
      "execution_count": 0,
      "outputs": []
    },
    {
      "cell_type": "code",
      "metadata": {
        "id": "wmRzUHroqV06",
        "colab_type": "code",
        "colab": {}
      },
      "source": [
        "html_soup = bs(response.text, 'html.parser')\n",
        "news_items = html_soup.find_all('div',attrs={'jscontroller':'d0DtYd'})"
      ],
      "execution_count": 0,
      "outputs": []
    },
    {
      "cell_type": "code",
      "metadata": {
        "id": "7cH1X_2nxaWD",
        "colab_type": "code",
        "colab": {}
      },
      "source": [
        "#storing endpoint of the given google news link\n",
        "endpoint_url = 'https://news.google.com'"
      ],
      "execution_count": 0,
      "outputs": []
    },
    {
      "cell_type": "code",
      "metadata": {
        "id": "j9SPU2gjzI72",
        "colab_type": "code",
        "colab": {}
      },
      "source": [
        "import nltk\n",
        "nltk.download('punkt')"
      ],
      "execution_count": 0,
      "outputs": []
    },
    {
      "cell_type": "code",
      "metadata": {
        "id": "R1Hvmq632VIr",
        "colab_type": "code",
        "colab": {}
      },
      "source": [
        "from tqdm import tqdm\n"
      ],
      "execution_count": 0,
      "outputs": []
    },
    {
      "cell_type": "code",
      "metadata": {
        "id": "o8qpFN4AzXTb",
        "colab_type": "code",
        "colab": {
          "base_uri": "https://localhost:8080/",
          "height": 34
        },
        "outputId": "164d7efb-522f-4416-dd8e-52ac007eccac"
      },
      "source": [
        "final_array = []\n",
        "for i in tqdm(range(len(news_items))):\n",
        "  try:\n",
        "    news_item = news_items[i]\n",
        "    local_array = []\n",
        "    title_element = news_item.find('h3',attrs={'class':'ipQwMb ekueJc gEATFF RD0gLb'})\n",
        "    title = title_element.text\n",
        "    local_array.append(title)\n",
        "    url_element = news_item.find('a',attrs={'class':'VDXfz'})\n",
        "    final_url = endpoint_url + url_element['href'][1:]\n",
        "    article = Article(final_url)\n",
        "    article.download()\n",
        "    article.parse()\n",
        "    article.nlp()\n",
        "    local_array.append(article.summary)\n",
        "    date_time_element = news_item.find('time',attrs={'class':'WW6dff uQIVzc Sksgp'})\n",
        "    date_time = date_time_element['datetime']\n",
        "    local_array.append(date_time)\n",
        "    local_array.append(final_url)\n",
        "    final_array.append(local_array)\n",
        "  except:\n",
        "    print(\"exception occured\")"
      ],
      "execution_count": 20,
      "outputs": [
        {
          "output_type": "stream",
          "text": [
            "100%|██████████| 59/59 [00:51<00:00,  1.15it/s]\n"
          ],
          "name": "stderr"
        }
      ]
    },
    {
      "cell_type": "code",
      "metadata": {
        "id": "E42-THeC3Xcw",
        "colab_type": "code",
        "colab": {}
      },
      "source": [
        "df = pd.DataFrame(final_array, columns=[\"Title\", \"Summary\", \"DateTime\", \"Url\"])"
      ],
      "execution_count": 0,
      "outputs": []
    },
    {
      "cell_type": "code",
      "metadata": {
        "id": "tlCEtCVWhshv",
        "colab_type": "code",
        "colab": {}
      },
      "source": [
        "df.dropna(axis=0,inplace=True)"
      ],
      "execution_count": 0,
      "outputs": []
    },
    {
      "cell_type": "code",
      "metadata": {
        "id": "5bzy3l2W3r1q",
        "colab_type": "code",
        "outputId": "2bae9469-2bec-48d3-f717-7f968516c890",
        "colab": {
          "base_uri": "https://localhost:8080/",
          "height": 221
        }
      },
      "source": [
        "print(\"Main news information:\")\n",
        "df.head()"
      ],
      "execution_count": 23,
      "outputs": [
        {
          "output_type": "stream",
          "text": [
            "Main news information:\n"
          ],
          "name": "stdout"
        },
        {
          "output_type": "execute_result",
          "data": {
            "text/html": [
              "<div>\n",
              "<style scoped>\n",
              "    .dataframe tbody tr th:only-of-type {\n",
              "        vertical-align: middle;\n",
              "    }\n",
              "\n",
              "    .dataframe tbody tr th {\n",
              "        vertical-align: top;\n",
              "    }\n",
              "\n",
              "    .dataframe thead th {\n",
              "        text-align: right;\n",
              "    }\n",
              "</style>\n",
              "<table border=\"1\" class=\"dataframe\">\n",
              "  <thead>\n",
              "    <tr style=\"text-align: right;\">\n",
              "      <th></th>\n",
              "      <th>Title</th>\n",
              "      <th>Summary</th>\n",
              "      <th>DateTime</th>\n",
              "      <th>Url</th>\n",
              "    </tr>\n",
              "  </thead>\n",
              "  <tbody>\n",
              "    <tr>\n",
              "      <th>0</th>\n",
              "      <td>Flipkart To Resume E-Commerce Sales Of Essenti...</td>\n",
              "      <td>Flipkart halted all shopping early on Wednesda...</td>\n",
              "      <td>2020-03-25T16:58:33Z</td>\n",
              "      <td>https://news.google.com/articles/CAIiELhUW22_P...</td>\n",
              "    </tr>\n",
              "    <tr>\n",
              "      <th>1</th>\n",
              "      <td>Experts peg Indias Covid-19 lockdown cost at $...</td>\n",
              "      <td>Pegging the cost of the Covid-19 lockdown at $...</td>\n",
              "      <td>2020-03-25T07:58:12Z</td>\n",
              "      <td>https://news.google.com/articles/CAIiEL2zBJ2-F...</td>\n",
              "    </tr>\n",
              "    <tr>\n",
              "      <th>2</th>\n",
              "      <td>Officers' union requests PM to defer mega bank...</td>\n",
              "      <td>Bank officers' union on Wednesday requested Pr...</td>\n",
              "      <td>2020-03-25T17:19:09Z</td>\n",
              "      <td>https://news.google.com/articles/CAIiEPsB-c8vq...</td>\n",
              "    </tr>\n",
              "    <tr>\n",
              "      <th>3</th>\n",
              "      <td>Ahead of Market: 12 things that will decide st...</td>\n",
              "      <td>\"The market rallied after the nationwide lockd...</td>\n",
              "      <td>2020-03-25T15:21:32Z</td>\n",
              "      <td>https://news.google.com/articles/CAIiEHTC2PK60...</td>\n",
              "    </tr>\n",
              "    <tr>\n",
              "      <th>4</th>\n",
              "      <td>Dow soars over 11% in strongest one-day perfor...</td>\n",
              "      <td>\"With all of this stimulus, we just need a cat...</td>\n",
              "      <td>2020-03-25T00:56:17Z</td>\n",
              "      <td>https://news.google.com/articles/CAIiEJuSS-q5I...</td>\n",
              "    </tr>\n",
              "  </tbody>\n",
              "</table>\n",
              "</div>"
            ],
            "text/plain": [
              "                                               Title  ...                                                Url\n",
              "0  Flipkart To Resume E-Commerce Sales Of Essenti...  ...  https://news.google.com/articles/CAIiELhUW22_P...\n",
              "1  Experts peg Indias Covid-19 lockdown cost at $...  ...  https://news.google.com/articles/CAIiEL2zBJ2-F...\n",
              "2  Officers' union requests PM to defer mega bank...  ...  https://news.google.com/articles/CAIiEPsB-c8vq...\n",
              "3  Ahead of Market: 12 things that will decide st...  ...  https://news.google.com/articles/CAIiEHTC2PK60...\n",
              "4  Dow soars over 11% in strongest one-day perfor...  ...  https://news.google.com/articles/CAIiEJuSS-q5I...\n",
              "\n",
              "[5 rows x 4 columns]"
            ]
          },
          "metadata": {
            "tags": []
          },
          "execution_count": 23
        }
      ]
    },
    {
      "cell_type": "code",
      "metadata": {
        "id": "lEPHALJUosfH",
        "colab_type": "code",
        "colab": {}
      },
      "source": [
        "x=[]\n",
        "for i in tqdm(news_items):\n",
        "  q=[]\n",
        "  l2=[]\n",
        "  new1=i.find_all('article',attrs={'jscontroller':\"mhFxVb\"})\n",
        "  s=new1.pop(0)\n",
        "  try:\n",
        "    for j in new1:\n",
        "      l1=[]\n",
        "      title=j.find('h4',attrs={'class':'ipQwMb ekueJc gEATFF RD0gLb'})\n",
        "      l1.append(title.text)\n",
        "      url1=title.find('a',attrs={'class':\"DY5T1d\"})\n",
        "      final_url=endpoint_url + url1['href'][1:]\n",
        "      article = Article(final_url)\n",
        "      article.download()\n",
        "      article.parse()\n",
        "      article.nlp()\n",
        "      l1.append(article.summary)\n",
        "      y=j.find('time',attrs={'class':\"WW6dff uQIVzc Sksgp\"})\n",
        "      l1.append(y['datetime'])\n",
        "      l1.append(final_url)\n",        
        "      l2.append(l1)\n",
        "  except:\n",
        "    print(\"exception in sub-news information\")\n",
        "\n",
        "  x.append(pd.DataFrame(l2,columns=['Title','Summmary','Time','Url']))"
      ],
      "execution_count": 0,
      "outputs": []
    },
    {
      "cell_type": "code",
      "metadata": {
        "id": "4mMjrP6i-wnd",
        "colab_type": "code",
        "outputId": "0192cc63-0750-4210-957e-6d304b1423a1",
        "colab": {
          "base_uri": "https://localhost:8080/",
          "height": 1000
        }
      },
      "source": [
        "for i in range(len(x)):\n",
        "  print(\"sub-news information of main news %d\"%(i+1))\n",
        "  print(x[i].head(2))"
      ],
      "execution_count": 25,
      "outputs": [
        {
          "output_type": "stream",
          "text": [
            "sub-news information of main news 1\n",
            "                                               Title  ...                   Url\n",
            "0  No Online Shopping: Flipkart, Grofers & Big Ba...  ...  2020-03-25T06:54:20Z\n",
            "1  Coronavirus Lockdown: Amazon Stops Taking New ...  ...  2020-03-25T07:59:22Z\n",
            "\n",
            "[2 rows x 4 columns]\n",
            "sub-news information of main news 2\n",
            "                                               Title  ...                   Url\n",
            "0  India’s 21-Day Lockdown May Shave 2 Percentage...  ...  2020-03-25T05:37:30Z\n",
            "1  Today's top business news: GDP growth could dr...  ...  2020-03-25T07:52:50Z\n",
            "\n",
            "[2 rows x 4 columns]\n",
            "sub-news information of main news 3\n",
            "                                               Title  ...                   Url\n",
            "0  Covid-19 lockdown: Corporates seek loans to pa...  ...  2020-03-25T10:15:23Z\n",
            "1  Coronavirus: Pressure mounts on govt to defer ...  ...  2020-03-25T14:55:38Z\n",
            "\n",
            "[2 rows x 4 columns]\n",
            "sub-news information of main news 4\n",
            "                                               Title  ...                   Url\n",
            "0  Sensex posts biggest one-day gain in 10 years....  ...  2020-03-25T10:27:31Z\n",
            "1  COVID-19: Investor Wealth Rises by Rs 6.63 Lak...  ...  2020-03-25T14:33:20Z\n",
            "\n",
            "[2 rows x 4 columns]\n",
            "sub-news information of main news 5\n",
            "                                               Title  ...                   Url\n",
            "0  Dow Has Biggest Rally Since 1933, Surging 11.4...  ...  2020-03-24T21:52:35Z\n",
            "1  Stocks - Boeing Drives Dow as Stocks Gain Some...  ...  2020-03-25T15:53:08Z\n",
            "\n",
            "[2 rows x 4 columns]\n",
            "sub-news information of main news 6\n",
            "                                               Title  ...                   Url\n",
            "0  Walmart taps Sameer Aggarwal as CEO of Indian ...  ...  2020-03-25T13:48:24Z\n",
            "1      Walmart India elevates Sameer Aggarwal as CEO  ...  2020-03-25T07:13:39Z\n",
            "\n",
            "[2 rows x 4 columns]\n",
            "sub-news information of main news 7\n",
            "                                               Title  ...                   Url\n",
            "0  Reliance's promoter firms exchange shares wort...  ...  2020-03-25T17:26:25Z\n",
            "\n",
            "[1 rows x 4 columns]\n",
            "sub-news information of main news 8\n",
            "                                               Title  ...                   Url\n",
            "0  Coronavirus: Reliance Jio to pay salary twice ...  ...  2020-03-25T09:25:49Z\n",
            "1  RIL share price ends 14% higher on report Face...  ...  2020-03-25T10:08:00Z\n",
            "\n",
            "[2 rows x 4 columns]\n",
            "sub-news information of main news 9\n",
            "                                               Title  ...                   Url\n",
            "0  Gold Price - Wild Swings May Continue as Unpre...  ...  2020-03-25T12:03:31Z\n",
            "1  Price of Gold Fundamental Daily Forecast - CME...  ...  2020-03-25T13:52:23Z\n",
            "\n",
            "[2 rows x 4 columns]\n",
            "sub-news information of main news 10\n",
            "                                               Title  ...                   Url\n",
            "0  Crude oil prices to remain choppy in the near ...  ...  2020-03-25T15:59:00Z\n",
            "1  RIL, 5 sectors to gain from the sharp fall in ...  ...  2020-03-24T10:43:00Z\n",
            "\n",
            "[2 rows x 4 columns]\n",
            "sub-news information of main news 11\n",
            "                                               Title  ...                   Url\n",
            "0  DoT focussed on Covid, not AGR for now, say of...  ...  2020-03-25T09:32:25Z\n",
            "1  These plans by Jio, Vodafone and Airtel offer ...  ...  2020-03-25T03:52:09Z\n",
            "\n",
            "[2 rows x 4 columns]\n",
            "sub-news information of main news 12\n",
            "                                               Title  ...                   Url\n",
            "0  YouTube joins other video streaming sites in l...  ...  2020-03-25T07:50:47Z\n",
            "1  Streaming in the time of Covid-19: YouTube fol...  ...  2020-03-25T08:22:00Z\n",
            "\n",
            "[2 rows x 4 columns]\n",
            "sub-news information of main news 13\n",
            "                                               Title  ...                   Url\n",
            "0  Share market update: Media shares gain; ZEEL r...  ...  2020-03-25T09:29:01Z\n",
            "1  Banks cut branch timings amid total lockdown. ...  ...  2020-03-25T03:39:00Z\n",
            "\n",
            "[2 rows x 4 columns]\n",
            "sub-news information of main news 14\n",
            "                                               Title  ...                   Url\n",
            "0  Amazon eases self-isolation: Prime Video makes...  ...  2020-03-25T12:13:00Z\n",
            "1  Netflix, Amazon Prime, Hotstar, other platform...  ...  2020-03-25T09:32:28Z\n",
            "\n",
            "[2 rows x 4 columns]\n",
            "sub-news information of main news 15\n",
            "                                               Title  ...                   Url\n",
            "0  Taking Stock: FM comments soothe nerves; Nifty...  ...  2020-03-24T13:21:00Z\n",
            "1  Sensex, Nifty rise over 2.5% as finance minist...  ...  2020-03-24T12:38:00Z\n",
            "\n",
            "[2 rows x 4 columns]\n",
            "sub-news information of main news 16\n",
            "                                               Title  ...                   Url\n",
            "0  Reliance Industries Shares Zoom Nearly 15%, Re...  ...  2020-03-25T12:33:13Z\n",
            "1  Zendesk announces partnership with Tata Consul...  ...  2020-03-25T10:09:51Z\n",
            "\n",
            "[2 rows x 4 columns]\n",
            "sub-news information of main news 17\n",
            "                                               Title  ...                   Url\n",
            "0  Big Bazaar initiates doorstep delivery in Mumb...  ...  2020-03-25T07:36:00Z\n",
            "1  Grocery Delivery: Big Bazaar Starts Doorstep S...  ...  2020-03-25T10:40:38Z\n",
            "\n",
            "[2 rows x 4 columns]\n",
            "sub-news information of main news 18\n",
            "                                               Title  ...                   Url\n",
            "0  Modi govt may unveil ₹1.5 lakh crore economic ...  ...  2020-03-25T11:27:06Z\n",
            "1  Govt likely to unveil $20 billion-plus stimulu...  ...  2020-03-25T18:01:52Z\n",
            "\n",
            "[2 rows x 4 columns]\n",
            "sub-news information of main news 19\n",
            "                                               Title  ...                   Url\n",
            "0  Stocks to Watch: Yes Bank, Indiabulls Housing,...  ...  2020-03-25T02:37:24Z\n",
            "1  YES Bank needs up to Rs 13,000 crore equity in...  ...  2020-03-25T16:48:11Z\n",
            "\n",
            "[2 rows x 4 columns]\n",
            "sub-news information of main news 20\n",
            "                                               Title  ...                   Url\n",
            "0  Coronavirus: Satya Nadella's wife donated Rs 2...  ...  2020-03-25T11:44:29Z\n",
            "1  Coronavirus pandemic | Microsoft will get out ...  ...  2020-03-25T10:10:08Z\n",
            "\n",
            "[2 rows x 4 columns]\n",
            "sub-news information of main news 21\n",
            "                                               Title  ...                   Url\n",
            "0  Airlines may suffer $252 billion revenue loss ...  ...  2020-03-25T05:47:43Z\n",
            "1  Airlines double estimate of revenue hit to $250bn  ...  2020-03-25T01:20:27Z\n",
            "\n",
            "[2 rows x 4 columns]\n",
            "sub-news information of main news 22\n",
            "                                               Title  ...                   Url\n",
            "0  Coronavirus to shave off ₹40k cr everyday from...  ...  2020-03-25T17:45:36Z\n",
            "\n",
            "[1 rows x 4 columns]\n",
            "sub-news information of main news 23\n",
            "                                               Title  ...                   Url\n",
            "0  COVID-19 Pandemic: WHO Partners Microsoft, Fac...  ...  2020-03-25T10:39:40Z\n",
            "1  World Health Organization, Facebook, Microsoft...  ...  2020-03-25T13:44:00Z\n",
            "\n",
            "[2 rows x 4 columns]\n",
            "sub-news information of main news 24\n",
            "                                               Title  ...                   Url\n",
            "0                        Soon A Chaas From Coca-Cola  ...  2020-03-24T11:06:26Z\n",
            "1  Coca Cola India suspends production of all but...  ...  2020-03-24T12:00:18Z\n",
            "\n",
            "[2 rows x 4 columns]\n",
            "sub-news information of main news 25\n",
            "                                               Title  ...                   Url\n",
            "0  LPG supplies normal in TN & PY, no need for pa...  ...  2020-03-25T03:25:22Z\n",
            "1    Fuel bunks in Kerala begin supply of BS-VI fuel  ...  2020-03-25T01:27:52Z\n",
            "\n",
            "[2 rows x 4 columns]\n",
            "sub-news information of main news 26\n",
            "                                               Title  ...                   Url\n",
            "0  Indian gas importer issues force majeure notic...  ...  2020-03-25T12:44:00Z\n",
            "1                Govt urged to waive off duty on LNG  ...  2020-03-25T13:11:36Z\n",
            "\n",
            "[2 rows x 4 columns]\n",
            "sub-news information of main news 27\n",
            "                                               Title  ...                   Url\n",
            "0  Remain optimistic about future despite uncerta...  ...  2020-03-24T16:24:49Z\n",
            "1  Remain positive, optimistic about future despi...  ...  2020-03-24T16:26:36Z\n",
            "\n",
            "[2 rows x 4 columns]\n",
            "sub-news information of main news 28\n",
            "                                               Title  ...                   Url\n",
            "0  With SEC investigation behind it, investors wa...  ...  2020-03-24T17:39:28Z\n",
            "1        US SEC clears Infosys in whistleblower case  ...  2020-03-25T09:17:21Z\n",
            "\n",
            "[2 rows x 4 columns]\n",
            "sub-news information of main news 29\n",
            "                                               Title  ...                   Url\n",
            "0  How to manage your mutual funds in coronavirus...  ...  2020-03-25T07:45:24Z\n",
            "1  L&T Mutual Fund launches Nifty50, Nifty Next50...  ...  2020-03-25T07:32:51Z\n",
            "\n",
            "[2 rows x 4 columns]\n",
            "sub-news information of main news 30\n",
            "                                               Title  ...                   Url\n",
            "0  Asian shares track Wall Street surge as US sti...  ...  2020-03-25T02:17:00Z\n",
            "1  Asia markets surge as US agrees blockbuster st...  ...  2020-03-25T08:18:00Z\n",
            "\n",
            "[2 rows x 4 columns]\n",
            "sub-news information of main news 31\n",
            "                                               Title  ...                   Url\n",
            "0  Vehicle plant closures to lead to a loss of ov...  ...  2020-03-24T15:02:10Z\n",
            "1  With Three-Week Lockdown, Auto and Aviation Se...  ...  2020-03-25T06:01:48Z\n",
            "\n",
            "[2 rows x 4 columns]\n",
            "sub-news information of main news 32\n",
            "                                               Title  ...                   Url\n",
            "0  Coronavirus pandemic: Excise duty on petrol an...  ...  2020-03-24T15:57:54Z\n",
            "1           Coronavirus impact: A hike in fuel rates  ...  2020-03-24T08:58:00Z\n",
            "\n",
            "[2 rows x 4 columns]\n",
            "sub-news information of main news 33\n",
            "                                               Title  ...                   Url\n",
            "0  Market Live: SGX Nifty indicates a negative op...  ...  2020-03-25T02:26:35Z\n",
            "1  As World Markets Shiver, Virus Can Push Rupee ...  ...  2020-03-25T04:37:02Z\n",
            "\n",
            "[2 rows x 4 columns]\n",
            "sub-news information of main news 34\n",
            "                                               Title  ...                   Url\n",
            "0  Coronavirus lockdown: India's huge IT industry...  ...  2020-03-25T06:00:43Z\n",
            "1  Outsourcing Industry Struggles With Work-From-...  ...  2020-03-25T11:37:49Z\n",
            "\n",
            "[2 rows x 4 columns]\n",
            "sub-news information of main news 35\n",
            "                                               Title  ...                   Url\n",
            "0  Digital industry to move from default HD to SD...  ...  2020-03-25T10:40:40Z\n",
            "1  Mobile Networks Expected to Improve During Cor...  ...  2020-03-25T10:54:09Z\n",
            "\n",
            "[2 rows x 4 columns]\n",
            "sub-news information of main news 36\n",
            "                                               Title  ...                   Url\n",
            "0  #Coronavirus Impact: ICICI, HDFC, SBI Will Del...  ...  2020-03-24T12:07:00Z\n",
            "1  Bottom of pyramid businesses & SMEs are not hi...  ...  2020-03-24T10:06:00Z\n",
            "\n",
            "[2 rows x 4 columns]\n",
            "sub-news information of main news 37\n",
            "                                               Title  ...                   Url\n",
            "0             Maruti Swift Facelift: What To Expect?  ...  2020-03-25T10:43:00Z\n",
            "1  Maruti Swift Facelift To Get 1.2-Litre K12C Du...  ...  2020-03-25T12:13:44Z\n",
            "\n",
            "[2 rows x 4 columns]\n",
            "sub-news information of main news 38\n",
            "                                               Title  ...                   Url\n",
            "0  Coronavirus impact: Banks brace for payment de...  ...  2020-03-24T17:19:24Z\n",
            "1  Who to blame for Yes Bank crisis? Former RBI c...  ...  2020-03-24T08:04:08Z\n",
            "\n",
            "[2 rows x 4 columns]\n",
            "sub-news information of main news 39\n",
            "                                               Title  ...                   Url\n",
            "0  Sebi writes to states to exempt staff of capit...  ...  2020-03-25T12:02:04Z\n",
            "1  Capital, debt services providing entities to r...  ...  2020-03-25T10:17:59Z\n",
            "\n",
            "[2 rows x 4 columns]\n",
            "sub-news information of main news 40\n",
            "                                               Title  ...                   Url\n",
            "0  Mukesh Ambani out of the list of world's riche...  ...  2020-03-24T18:04:34Z\n",
            "1  Covid-19 Fightback: Why A Small Thank You Note...  ...  2020-03-25T05:39:00Z\n",
            "\n",
            "[2 rows x 4 columns]\n",
            "sub-news information of main news 41\n",
            "                                               Title  ...                   Url\n",
            "0  As flights get cancelled amid COVID-19 crisis,...  ...  2020-03-24T11:11:00Z\n",
            "1  Here is where airlines are parking all those g...  ...  2020-03-25T03:30:01Z\n",
            "\n",
            "[2 rows x 4 columns]\n",
            "sub-news information of main news 42\n",
            "                                               Title  ...                   Url\n",
            "0  Facing difficulties in running factories for p...  ...  2020-03-25T08:00:25Z\n",
            "1   Hindustan Unilever shares gain 2% in early trade  ...  2020-03-25T04:04:52Z\n",
            "\n",
            "[2 rows x 4 columns]\n",
            "sub-news information of main news 43\n",
            "                                               Title  ...                   Url\n",
            "0  BigBasket, Grofers and other delivery services...  ...  2020-03-25T05:03:49Z\n",
            "1  Grofers, other online grocery stores in Hydera...  ...  2020-03-25T04:00:26Z\n",
            "\n",
            "[2 rows x 4 columns]\n",
            "sub-news information of main news 44\n",
            "                                               Title  ...                   Url\n",
            "0  Six Amazon warehouse workers test positive for...  ...  2020-03-25T06:09:00Z\n",
            "1  Amazon has workers who tested positive for COV...  ...  2020-03-25T11:30:00Z\n",
            "\n",
            "[2 rows x 4 columns]\n",
            "sub-news information of main news 45\n",
            "                                               Title  ...                   Url\n",
            "0  BS6-compliant Mahindra Bolero launched, starts...  ...  2020-03-24T12:30:31Z\n",
            "1  BS6 Mahindra XUV300 diesel priced from Rs 8.69...  ...  2020-03-24T07:18:00Z\n",
            "\n",
            "[2 rows x 4 columns]\n",
            "sub-news information of main news 46\n",
            "                                               Title  ...                   Url\n",
            "0  Coronavirus lockdown: Working with authorities...  ...  2020-03-25T16:26:00Z\n",
            "1  Zomato to enable loans for restaurants, employ...  ...  2020-03-25T12:59:44Z\n",
            "\n",
            "[2 rows x 4 columns]\n",
            "sub-news information of main news 47\n",
            "                                               Title  ...                   Url\n",
            "0  Calls grow for BSE, NSE to be shut down, broke...  ...  2020-03-25T05:56:00Z\n",
            "1  Amid 21-day nationwide lockdown, financial mar...  ...  2020-03-24T17:35:58Z\n",
            "\n",
            "[2 rows x 4 columns]\n",
            "sub-news information of main news 48\n",
            "                                               Title  ...                   Url\n",
            "0  India headed for rare quarterly contraction on...  ...  2020-03-25T10:48:32Z\n",
            "\n",
            "[1 rows x 4 columns]\n",
            "sub-news information of main news 49\n",
            "                                               Title  ...                   Url\n",
            "0  Street positive in Hindustan Unilevers ability...  ...  2020-03-24T14:02:11Z\n",
            "1  HUL says facing difficulties in running factor...  ...  2020-03-25T01:13:33Z\n",
            "\n",
            "[2 rows x 4 columns]\n",
            "sub-news information of main news 50\n",
            "                                               Title  ...                   Url\n",
            "0  Is equity market crisis an opportunity? Beware...  ...  2020-03-25T07:51:01Z\n",
            "1  Every battered stock will not deliver, look fo...  ...  2020-03-25T08:14:00Z\n",
            "\n",
            "[2 rows x 4 columns]\n",
            "sub-news information of main news 51\n",
            "                                               Title  ...                   Url\n",
            "0  CZ Binance: This Is How Easily Bitcoin Can Get...  ...  2020-03-25T10:40:12Z\n",
            "1  Bitcoin surges above $6,700, but danger is not...  ...  2020-03-25T15:40:31Z\n",
            "\n",
            "[2 rows x 4 columns]\n",
            "sub-news information of main news 52\n",
            "                                               Title  ...                   Url\n",
            "0  Domestic flights suspended: Worried if you wil...  ...  2020-03-24T13:37:00Z\n",
            "1  Coronavirus: IndiGo says no deduction in salar...  ...  2020-03-24T16:25:03Z\n",
            "\n",
            "[2 rows x 4 columns]\n",
            "sub-news information of main news 53\n",
            "                                               Title  ...                   Url\n",
            "0  BS6 Mahindra Bolero Launched In India; Prices ...  ...  2020-03-25T16:15:36Z\n",
            "1     2020 Mahindra Bolero launched at Rs. 7.77 lakh  ...  2020-03-25T10:04:34Z\n",
            "\n",
            "[2 rows x 4 columns]\n",
            "sub-news information of main news 54\n",
            "                                               Title  ...                   Url\n",
            "0  Coronavirus pandemic: US automakers to extend ...  ...  2020-03-25T04:48:30Z\n",
            "1  GM, Ford and FCA expected to extend coronaviru...  ...  2020-03-25T13:09:24Z\n",
            "\n",
            "[2 rows x 4 columns]\n",
            "sub-news information of main news 55\n",
            "                                               Title  ...                   Url\n",
            "0  Morgan Stanley goes 'overweight' on HDFC Bank,...  ...  2020-03-25T07:52:40Z\n",
            "\n",
            "[1 rows x 4 columns]\n",
            "sub-news information of main news 56\n",
            "                                               Title  ...                   Url\n",
            "0  45% Of Kia Seltos Sales From BS6 Diesel Versio...  ...  2020-03-24T11:09:00Z\n",
            "1    Samsung, Hyundai ending work-from-home policies  ...  2020-03-24T14:04:26Z\n",
            "\n",
            "[2 rows x 4 columns]\n",
            "sub-news information of main news 57\n",
            "                                               Title  ...                   Url\n",
            "0  Coronavirus: Economic impact of pandemic will ...  ...  2020-03-24T10:30:00Z\n",
            "1  IMF Managing Director Kristalina Georgieva: Th...  ...  2020-03-24T10:53:42Z\n",
            "\n",
            "[2 rows x 4 columns]\n",
            "sub-news information of main news 58\n",
            "                                               Title  ...                   Url\n",
            "0  Dollar falls for a second day on US Federal Re...  ...  2020-03-24T10:29:48Z\n",
            "1  Forex - Dollar Retreats After Fed Package; Ste...  ...  2020-03-24T08:57:00Z\n",
            "\n",
            "[2 rows x 4 columns]\n",
            "sub-news information of main news 59\n",
            "                                               Title  ...                   Url\n",
            "0  Big Basket announces 100% acquisition of onlin...  ...  2020-03-24T23:19:21Z\n",
            "1  BigBasket acquires micro-delivery firm, DailyN...  ...  2020-03-25T02:30:32Z\n",
            "\n",
            "[2 rows x 4 columns]\n"
          ],
          "name": "stdout"
        }
      ]
    },
    {
      "cell_type": "code",
      "metadata": {
        "id": "nV6ek5nhOqNA",
        "colab_type": "code",
        "colab": {}
      },
      "source": [
        "def search_word_sub_news(a):\n",
        "  global x\n",
        "  q=[-1,-1]\n",
        "  try:\n",
        "    for j in range(len(x)):\n",
        "      for i in range(x[j].shape[0]):\n",
        "        dg=x[j]\n",
        "        article=Article(dg['Url'][i])\n",
        "        article.download()\n",
        "        article.parse()\n",
        "        s=set(article.text.split())\n",
        "        if a in s :\n",
        "          q.pop()\n",
        "          q.pop()\n",
        "          q.append(j)\n",
        "          q.append(i)\n",
        "          return q\n",
        "  except:\n",
        "    print(\"Exception occured\")        \n",
        "  return q"
      ],
      "execution_count": 0,
      "outputs": []
    },
    {
      "cell_type": "code",
      "metadata": {
        "id": "y_wxdcle0R21",
        "colab_type": "code",
        "colab": {}
      },
      "source": [
        "def search_word_main_news(a):\n",
        "  try:\n",
        "    for i in range(df.shape[0]):\n",
        "      article=Article(df['Url'][i])\n",
        "      article.download()\n",
        "      article.parse()\n",
        "      s=set(article.text.split())\n",
        "      if a in s :\n",
        "        return i\n",
        "  except:\n",
        "    print(\"Exception occured\")\n",
        "  return -1"
      ],
      "execution_count": 0,
      "outputs": []
    },
    {
      "cell_type": "code",
      "metadata": {
        "id": "PjKzPKdPL1Lq",
        "colab_type": "code",
        "colab": {}
      },
      "source": [
        "r=input(\"Do you want to search word in main news? Type Yes for search, otherwise No\")\n",
        "if r==\"yes\" or r==\"Yes\":\n",
        "  y=input(\"Enter word\")\n",
        "  z=search_word_main_news(y)\n",
        "  if z!=-1 :\n",
        "    print(\"word found in main news %d\"%(z+1))\n",
        "  else:\n",
        "    print(\"word not found in main news\")"
      ],
      "execution_count": 0,
      "outputs": []
    },
    {
      "cell_type": "code",
      "metadata": {
        "id": "QUGAgvrb0KrA",
        "colab_type": "code",
        "colab": {
          "base_uri": "https://localhost:8080/",
          "height": 85
        },
        "outputId": "6b27945d-3e35-4f20-ba8f-99a0861d0414"
      },
      "source": [
        "v=input(\"Do you want to search word in sub news? Type Yes for search, otherwise No\")\n",
        "if v==\"yes\" or v==\"Yes\":\n",
        "  y=input(\"Enter word\")\n",
        "  z=search_word_sub_news(y)\n",
        "  if z[0]!=-1 :\n",
        "    print(\"word found in main news %d and sub-news %d\"%(z[0]+1,z[1]+1))\n",
        "  else:\n",
        "    print(\"word not found in sub news\")"
      ],
      "execution_count": 28,
      "outputs": [
        {
          "output_type": "stream",
          "text": [
            "Do you want to search word in sub news? Type Yes for search, otherwise Noyes\n",
            "Enter wordAmazon\n",
            "word found in main news 1 and sub-news 1\n"
          ],
          "name": "stdout"
        }
      ]
    }
  ]
}
