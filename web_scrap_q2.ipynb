{
  "nbformat": 4,
  "nbformat_minor": 0,
  "metadata": {
    "colab": {
      "name": "Copy of internshala_question2.ipynb",
      "provenance": [],
      "collapsed_sections": [],
      "authorship_tag": "ABX9TyMgmQj6a4+JTHHI9E7NIAzl",
      "include_colab_link": true
    },
    "kernelspec": {
      "name": "python3",
      "display_name": "Python 3"
    }
  },
  "cells": [
    {
      "cell_type": "markdown",
      "metadata": {
        "id": "view-in-github",
        "colab_type": "text"
      },
      "source": [
        "<a href=\"https://colab.research.google.com/github/Abhishekkohli/Abhishek27/blob/master/Copy_of_internshala_question2.ipynb\" target=\"_parent\"><img src=\"https://colab.research.google.com/assets/colab-badge.svg\" alt=\"Open In Colab\"/></a>"
      ]
    },
    {
      "cell_type": "code",
      "metadata": {
        "id": "CGdpFDos2gae",
        "colab_type": "code",
        "colab": {}
      },
      "source": [
        "from time import ctime\n",
        "from requests import get\n",
        "from bs4 import BeautifulSoup as bs\n",
        "import pandas as pd\n",
        "import time\n",
        "from tqdm import tqdm"
      ],
      "execution_count": 0,
      "outputs": []
    },
    {
      "cell_type": "code",
      "metadata": {
        "id": "oAWecNKnuqHh",
        "colab_type": "code",
        "colab": {}
      },
      "source": [
        "pip install stockstats"
      ],
      "execution_count": 0,
      "outputs": []
    },
    {
      "cell_type": "code",
      "metadata": {
        "id": "11Gqp5rWWvc1",
        "colab_type": "code",
        "colab": {}
      },
      "source": [
        "pip install yfinance"
      ],
      "execution_count": 0,
      "outputs": []
    },
    {
      "cell_type": "code",
      "metadata": {
        "id": "8wwfyxl3vmRN",
        "colab_type": "code",
        "colab": {}
      },
      "source": [
        "from stockstats import StockDataFrame"
      ],
      "execution_count": 0,
      "outputs": []
    },
    {
      "cell_type": "code",
      "metadata": {
        "id": "t_gG3RFr2jgx",
        "colab_type": "code",
        "colab": {}
      },
      "source": [
        "#finding today's time and day\n",
        "s=ctime()"
      ],
      "execution_count": 0,
      "outputs": []
    },
    {
      "cell_type": "code",
      "metadata": {
        "id": "FaGQD3Na4uEL",
        "colab_type": "code",
        "colab": {}
      },
      "source": [
        "day=s.split(' ',1)[0]\n",
        "i=s.find(':')\n",
        "#since time is computed for GMT zone, so converting it in our IST zone\n",
        "hour=(int(s[i-2:i]) + 6)%24\n",
        "minute=int(s[i+1:i+3]) - 30\n",
        "if minute < 0 :\n",
        "  minute+=60\n",
        "  hour-=1\n",
        "total_time_minutes=hour*60 + minute"
      ],
      "execution_count": 0,
      "outputs": []
    },
    {
      "cell_type": "code",
      "metadata": {
        "id": "bv3tlzqiW8uS",
        "colab_type": "code",
        "outputId": "2276e6ae-323d-42e5-ff30-ea9b7f211911",
        "colab": {
          "base_uri": "https://localhost:8080/",
          "height": 51
        }
      },
      "source": [
        "\n",
        "url = \"https://www.moneycontrol.com/stocks/marketstats/indexcomp.php?optex=NSE&opttopic=indexcomp&index=9\"\n",
        "\n",
        "reponse = get(url)\n",
        "html_soup = bs(reponse.text,'html.parser')\n",
        "table_element = html_soup.find('table',attrs={'class':'tbldata14 bdrtpg'})\n",
        "table_rows = table_element.find_all('tr')\n",
        "companies = table_rows[1:]\n",
        "#to store previous %chg values for companies in list\n",
        "previous_change = []\n",
        "#to keep track of time\n",
        "program_time = 0\n",
        "\n",
        "final_array = []\n",
        "#to calculate modulus\n",
        "def mod(a):\n",
        "    if(a < 0):\n",
        "        return -a\n",
        "    return a\n",
        "\n",
        "#to alert when %chg crosses 2\n",
        "def check_alert(previous_data,new_data,stock_name):\n",
        "    if(mod(new_data-previous_data)>=2):\n",
        "        print(\"ALERT!!  \"+ stock_name +\" has more than 2 percent change\")\n",
        "\n",
        "#storing table in dataframe\n",
        "for i in tqdm(range(len(companies))):\n",
        "    local_array = []\n",
        "    company = companies[i]\n",
        "    tds = company.find_all('td')\n",
        "    name = tds[0].find('a',attrs={'class':'bl_12'}).text\n",
        "    industry = tds[1].find('a',attrs={'class':'bl_12'}).text\n",
        "    last_price = tds[2].text\n",
        "    change = tds[3].text\n",
        "    change_percent = tds[4].text\n",
        "    market_cap = tds[5].text\n",
        "    previous_change.append(change_percent)\n",
        "    local_array.append(name)\n",
        "    local_array.append(industry)\n",
        "    local_array.append(last_price)\n",
        "    local_array.append(change)\n",
        "    local_array.append(change_percent)\n",
        "    local_array.append(market_cap)\n",
        "    final_array.append(local_array)\n",
        "\n",
        "df=pd.DataFrame(final_array,columns=[\"Company_Name\",\"Industry\",\"Last_Price\",\"Change\",\"%chg\",\"Market_cap(in crs.)\"])\n",
        "print()\n"
      ],
      "execution_count": 0,
      "outputs": [
        {
          "output_type": "stream",
          "text": [
            "100%|██████████| 50/50 [00:00<00:00, 8757.11it/s]"
          ],
          "name": "stderr"
        },
        {
          "output_type": "stream",
          "text": [
            "\n"
          ],
          "name": "stdout"
        },
        {
          "output_type": "stream",
          "text": [
            "\n"
          ],
          "name": "stderr"
        }
      ]
    },
    {
      "cell_type": "code",
      "metadata": {
        "id": "yv0MIaRknPBe",
        "colab_type": "code",
        "colab": {}
      },
      "source": [
        "def update_array():\n",
        "    global df\n",
        "    for i in tqdm(range(len(companies))):\n",
        "        company = companies[i]\n",
        "        tds = company.find_all('td')\n",
        "        name = tds[0].find('a',attrs={'class':'bl_12'}).text\n",
        "        industry = tds[1].find('a',attrs={'class':'bl_12'}).text\n",
        "        last_price = tds[2].text\n",
        "        change = tds[3].text\n",
        "        change_percent = tds[4].text\n",
        "        #checking alert at every 2 minutes  \n",
        "        if(program_time%120 == 0):\n",
        "            check_alert(float(previous_change[i]),float(change_percent),name)\n",
        "        previous_change[i]=change_percent\n",
        "        market_cap = tds[5].text\n",
        "        df[\"Company_Name\"][i]=name\n",
        "        df[\"Industry\"][i]=industry\n",
        "        df[\"Last_Price\"][i]=last_price\n",
        "        df[\"Change\"][i]=change\n",
        "        df[\"%chg\"][i]=change_percent\n",
        "        df[\"Market_cap(in crs.)\"][i]=market_cap\n",
        "\n",
        "t1=9*60 + 15\n",
        "t2=15*60 + 30\n",
        "while True:\n",
        "    time.sleep(30)\n",
        "    program_time+=30\n",
        "    # since real table is updated only during Mon-Fri and between 9:15 and 15:30, so we are updating our table in the given time period\n",
        "    if (day!=\"Sat\" and day!=\"Sun\") and (t1 <=total_time_minutes<=t2):\n",
        "        update_array()\n",
        "    print(df.head())\n",
        "    #program running for 20 minutes\n",
        "    if(program_time == 1200):\n",
        "        break\n",
        "\n"
      ],
      "execution_count": 0,
      "outputs": []
    },
    {
      "cell_type": "code",
      "metadata": {
        "id": "Nc4hK5AsWdmO",
        "colab_type": "code",
        "colab": {}
      },
      "source": [
        "import yfinance as yf\n",
        "\n",
        "#define the ticker symbol for SBI, which is there in the table\n",
        "tickerSymbol = 'SBIN.NS'\n",
        "\n",
        "#get data on this ticker\n",
        "tickerData = yf.Ticker(tickerSymbol)\n",
        "\n",
        "#get the historical prices for this ticker\n",
        "df_stock = tickerData.history(period='1d', start='2020-3-1', end='2020-3-16')\n",
        "df_stock.head()"
      ],
      "execution_count": 0,
      "outputs": []
    },
    {
      "cell_type": "code",
      "metadata": {
        "id": "-5zt3qt5DzSE",
        "colab_type": "code",
        "colab": {}
      },
      "source": [
        "#implementing Relative Strength Index (RSI) as an indicator for 14 days\n",
        "stock=StockDataFrame.retype(df_stock)\n",
        "df_stock['rsi']=stock['rsi_14']\n",
        "#removing extra columns\n",
        "del df_stock['closenm_14_smma']\n",
        "del df_stock['closepm_14_smma']\n",
        "del df_stock['closenm']\n",
        "del df_stock['closepm']\n",
        "del df_stock['stock splits']\n",
        "del df_stock['rsi']\n",
        "del df_stock['close_-1_s']\n",
        "del df_stock['close_-1_d']\n",
        "del df_stock['rs_14']\n"
      ],
      "execution_count": 0,
      "outputs": []
    }
  ]
}
